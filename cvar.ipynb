{
 "cells": [
  {
   "cell_type": "markdown",
   "metadata": {},
   "source": [
    "## VaR implementation"
   ]
  },
  {
   "cell_type": "code",
   "execution_count": 1,
   "metadata": {},
   "outputs": [
    {
     "name": "stderr",
     "output_type": "stream",
     "text": [
      "C:\\Users\\Admin\\AppData\\Local\\Temp\\ipykernel_2216\\4119724011.py:7: FutureWarning: YF.download() has changed argument auto_adjust default to True\n",
      "  amzn = yf.download('AMZN', '2023-11-30', '2024-11-30')\n",
      "[*********************100%***********************]  1 of 1 completed\n",
      "C:\\Users\\Admin\\AppData\\Local\\Temp\\ipykernel_2216\\4119724011.py:8: FutureWarning: YF.download() has changed argument auto_adjust default to True\n",
      "  tsla = yf.download('TSLA', '2023-11-30', '2024-11-30')\n",
      "[*********************100%***********************]  1 of 1 completed\n",
      "C:\\Users\\Admin\\AppData\\Local\\Temp\\ipykernel_2216\\4119724011.py:9: FutureWarning: YF.download() has changed argument auto_adjust default to True\n",
      "  aapl = yf.download('AAPL', '2023-11-30', '2024-11-30')\n",
      "[*********************100%***********************]  1 of 1 completed\n"
     ]
    }
   ],
   "source": [
    "import numpy as np\n",
    "import pandas as pd\n",
    "import yfinance as yf\n",
    "from scipy.stats import norm\n",
    "\n",
    "# Download the data\n",
    "amzn = yf.download('AMZN', '2023-11-30', '2024-11-30')\n",
    "tsla = yf.download('TSLA', '2023-11-30', '2024-11-30')\n",
    "aapl = yf.download('AAPL', '2023-11-30', '2024-11-30')"
   ]
  },
  {
   "cell_type": "code",
   "execution_count": 2,
   "metadata": {},
   "outputs": [
    {
     "data": {
      "text/html": [
       "<div>\n",
       "<style scoped>\n",
       "    .dataframe tbody tr th:only-of-type {\n",
       "        vertical-align: middle;\n",
       "    }\n",
       "\n",
       "    .dataframe tbody tr th {\n",
       "        vertical-align: top;\n",
       "    }\n",
       "\n",
       "    .dataframe thead th {\n",
       "        text-align: right;\n",
       "    }\n",
       "</style>\n",
       "<table border=\"1\" class=\"dataframe\">\n",
       "  <thead>\n",
       "    <tr style=\"text-align: right;\">\n",
       "      <th></th>\n",
       "      <th>AMZN</th>\n",
       "      <th>TSLA</th>\n",
       "      <th>AAPL</th>\n",
       "      <th>R1</th>\n",
       "      <th>R2</th>\n",
       "      <th>R3</th>\n",
       "      <th>Rp</th>\n",
       "    </tr>\n",
       "    <tr>\n",
       "      <th>Date</th>\n",
       "      <th></th>\n",
       "      <th></th>\n",
       "      <th></th>\n",
       "      <th></th>\n",
       "      <th></th>\n",
       "      <th></th>\n",
       "      <th></th>\n",
       "    </tr>\n",
       "  </thead>\n",
       "  <tbody>\n",
       "    <tr>\n",
       "      <th>2023-12-01</th>\n",
       "      <td>147.029999</td>\n",
       "      <td>238.830002</td>\n",
       "      <td>189.849701</td>\n",
       "      <td>-0.006434</td>\n",
       "      <td>0.005207</td>\n",
       "      <td>-0.006791</td>\n",
       "      <td>-0.003049</td>\n",
       "    </tr>\n",
       "    <tr>\n",
       "      <th>2023-12-04</th>\n",
       "      <td>144.839996</td>\n",
       "      <td>235.580002</td>\n",
       "      <td>188.052856</td>\n",
       "      <td>0.014895</td>\n",
       "      <td>0.013608</td>\n",
       "      <td>0.009465</td>\n",
       "      <td>0.012880</td>\n",
       "    </tr>\n",
       "    <tr>\n",
       "      <th>2023-12-05</th>\n",
       "      <td>146.880005</td>\n",
       "      <td>238.720001</td>\n",
       "      <td>192.013855</td>\n",
       "      <td>-0.014085</td>\n",
       "      <td>-0.013329</td>\n",
       "      <td>-0.021063</td>\n",
       "      <td>-0.015951</td>\n",
       "    </tr>\n",
       "    <tr>\n",
       "      <th>2023-12-06</th>\n",
       "      <td>144.520004</td>\n",
       "      <td>239.369995</td>\n",
       "      <td>190.921890</td>\n",
       "      <td>0.016068</td>\n",
       "      <td>-0.002723</td>\n",
       "      <td>0.005687</td>\n",
       "      <td>0.007316</td>\n",
       "    </tr>\n",
       "    <tr>\n",
       "      <th>2023-12-07</th>\n",
       "      <td>146.880005</td>\n",
       "      <td>242.639999</td>\n",
       "      <td>192.857681</td>\n",
       "      <td>-0.016330</td>\n",
       "      <td>-0.013661</td>\n",
       "      <td>-0.010139</td>\n",
       "      <td>-0.013672</td>\n",
       "    </tr>\n",
       "    <tr>\n",
       "      <th>...</th>\n",
       "      <td>...</td>\n",
       "      <td>...</td>\n",
       "      <td>...</td>\n",
       "      <td>...</td>\n",
       "      <td>...</td>\n",
       "      <td>...</td>\n",
       "      <td>...</td>\n",
       "    </tr>\n",
       "    <tr>\n",
       "      <th>2024-11-22</th>\n",
       "      <td>197.119995</td>\n",
       "      <td>352.559998</td>\n",
       "      <td>229.316818</td>\n",
       "      <td>0.006351</td>\n",
       "      <td>-0.038040</td>\n",
       "      <td>-0.005908</td>\n",
       "      <td>-0.010644</td>\n",
       "    </tr>\n",
       "    <tr>\n",
       "      <th>2024-11-25</th>\n",
       "      <td>201.449997</td>\n",
       "      <td>338.589996</td>\n",
       "      <td>232.309601</td>\n",
       "      <td>-0.021966</td>\n",
       "      <td>0.039624</td>\n",
       "      <td>-0.013051</td>\n",
       "      <td>-0.000814</td>\n",
       "    </tr>\n",
       "    <tr>\n",
       "      <th>2024-11-26</th>\n",
       "      <td>207.860001</td>\n",
       "      <td>338.230011</td>\n",
       "      <td>234.494324</td>\n",
       "      <td>-0.031819</td>\n",
       "      <td>0.001063</td>\n",
       "      <td>-0.009404</td>\n",
       "      <td>-0.015230</td>\n",
       "    </tr>\n",
       "    <tr>\n",
       "      <th>2024-11-27</th>\n",
       "      <td>205.740005</td>\n",
       "      <td>332.890015</td>\n",
       "      <td>234.364639</td>\n",
       "      <td>0.010199</td>\n",
       "      <td>0.015788</td>\n",
       "      <td>0.000553</td>\n",
       "      <td>0.008982</td>\n",
       "    </tr>\n",
       "    <tr>\n",
       "      <th>2024-11-29</th>\n",
       "      <td>207.889999</td>\n",
       "      <td>345.160004</td>\n",
       "      <td>236.758865</td>\n",
       "      <td>-0.010450</td>\n",
       "      <td>-0.036859</td>\n",
       "      <td>-0.010216</td>\n",
       "      <td>-0.018302</td>\n",
       "    </tr>\n",
       "  </tbody>\n",
       "</table>\n",
       "<p>251 rows × 7 columns</p>\n",
       "</div>"
      ],
      "text/plain": [
       "                  AMZN        TSLA        AAPL        R1        R2        R3  \\\n",
       "Date                                                                           \n",
       "2023-12-01  147.029999  238.830002  189.849701 -0.006434  0.005207 -0.006791   \n",
       "2023-12-04  144.839996  235.580002  188.052856  0.014895  0.013608  0.009465   \n",
       "2023-12-05  146.880005  238.720001  192.013855 -0.014085 -0.013329 -0.021063   \n",
       "2023-12-06  144.520004  239.369995  190.921890  0.016068 -0.002723  0.005687   \n",
       "2023-12-07  146.880005  242.639999  192.857681 -0.016330 -0.013661 -0.010139   \n",
       "...                ...         ...         ...       ...       ...       ...   \n",
       "2024-11-22  197.119995  352.559998  229.316818  0.006351 -0.038040 -0.005908   \n",
       "2024-11-25  201.449997  338.589996  232.309601 -0.021966  0.039624 -0.013051   \n",
       "2024-11-26  207.860001  338.230011  234.494324 -0.031819  0.001063 -0.009404   \n",
       "2024-11-27  205.740005  332.890015  234.364639  0.010199  0.015788  0.000553   \n",
       "2024-11-29  207.889999  345.160004  236.758865 -0.010450 -0.036859 -0.010216   \n",
       "\n",
       "                  Rp  \n",
       "Date                  \n",
       "2023-12-01 -0.003049  \n",
       "2023-12-04  0.012880  \n",
       "2023-12-05 -0.015951  \n",
       "2023-12-06  0.007316  \n",
       "2023-12-07 -0.013672  \n",
       "...              ...  \n",
       "2024-11-22 -0.010644  \n",
       "2024-11-25 -0.000814  \n",
       "2024-11-26 -0.015230  \n",
       "2024-11-27  0.008982  \n",
       "2024-11-29 -0.018302  \n",
       "\n",
       "[251 rows x 7 columns]"
      ]
     },
     "execution_count": 2,
     "metadata": {},
     "output_type": "execute_result"
    }
   ],
   "source": [
    "# Extract only closing prices\n",
    "amzn_close = amzn['Close']\n",
    "tsla_close = tsla['Close']\n",
    "aapl_close = aapl['Close']\n",
    "\n",
    "# Put all three closing prices together\n",
    "df = pd.concat([amzn_close, tsla_close, aapl_close], axis=1)\n",
    "df.columns = ['AMZN', 'TSLA', 'AAPL']\n",
    "\n",
    "# Compute the returns\n",
    "df['R1'] = -df['AMZN'].pct_change()\n",
    "df['R2'] = -df['TSLA'].pct_change()\n",
    "df['R3'] = -df['AAPL'].pct_change()\n",
    "\n",
    "# Construct the portfolio returns column as a weighted sum of individual asset returns and weights\n",
    "w = np.array([0.4, 0.3, 0.3])\n",
    "df['Rp'] = (df[['R1', 'R2', 'R3']] * w).sum(axis=1)\n",
    "df = df.drop(df.index[0])\n",
    "df"
   ]
  },
  {
   "cell_type": "markdown",
   "metadata": {},
   "source": [
    "## Non-parametric VaR"
   ]
  },
  {
   "cell_type": "code",
   "execution_count": 3,
   "metadata": {},
   "outputs": [
    {
     "name": "stdout",
     "output_type": "stream",
     "text": [
      "VaR(mean) is $230540.84\n",
      "VaR(zero) is $325539.40\n"
     ]
    }
   ],
   "source": [
    "# Define initial portfolio value and add a column of portfolio values to the df object\n",
    "V0 = 1000000\n",
    "df['V'] = V0 * (1 + df['Rp']).cumprod()\n",
    "\n",
    "# Compute and report portfolio VaR(mean) and VaR(zero)\n",
    "print('VaR(mean) is ${:.2f}'.format(df['V'].mean() - df['V'].quantile(0.05)))\n",
    "print('VaR(zero) is ${:.2f}'.format(V0 - df['V'].quantile(0.05)))"
   ]
  },
  {
   "cell_type": "markdown",
   "metadata": {},
   "source": [
    "## Parametric VaR  "
   ]
  },
  {
   "cell_type": "code",
   "execution_count": 4,
   "metadata": {},
   "outputs": [
    {
     "name": "stdout",
     "output_type": "stream",
     "text": [
      "VaR(mean) is $450631.49\n",
      "VaR(zero) is $475676.55\n"
     ]
    }
   ],
   "source": [
    "# Define initial portfolio value and add a column of portfolio values to the df object\n",
    "V0 = 1_000_000\n",
    "df['V'] = V0 * (1 + df['Rp']).cumprod()\n",
    "\n",
    "z = norm.ppf(0.95)\n",
    "\n",
    "# Compute VaR(mean) assuming mean return is 0\n",
    "print('VaR(mean) is ${:.2f}'.format(V0 * z * df['Rp'].std() * np.sqrt(252)))\n",
    "# Compute VaR(zero) accounting for mean return\n",
    "print('VaR(zero) is ${:.2f}'.format(V0 * (z * df['Rp'].std() * np.sqrt(252) - df['Rp'].mean() * np.sqrt(252))))"
   ]
  },
  {
   "cell_type": "markdown",
   "metadata": {},
   "source": [
    "## Portfolio VaR"
   ]
  },
  {
   "cell_type": "code",
   "execution_count": 5,
   "metadata": {},
   "outputs": [
    {
     "name": "stdout",
     "output_type": "stream",
     "text": [
      "Portfolio VaR corresponding to 0.95 confidence level is $450631.49\n"
     ]
    }
   ],
   "source": [
    "# Compute portfolio variance and standard deviation\n",
    "variance_p = df['Rp'].var() * 252\n",
    "sigma_p = np.sqrt(variance_p)\n",
    "\n",
    "# Define initial portfolio value and a standard normal multiple for 95% confidence level\n",
    "W = 1000000\n",
    "z = norm.ppf(0.95)\n",
    "\n",
    "# Compute and report portfolio VaR\n",
    "VaR_p = sigma_p * z * W\n",
    "print('Portfolio VaR corresponding to 0.95 confidence level is ${:.2f}'.format(VaR_p))"
   ]
  },
  {
   "cell_type": "markdown",
   "metadata": {},
   "source": [
    "## Margin VaR"
   ]
  },
  {
   "cell_type": "code",
   "execution_count": 6,
   "metadata": {},
   "outputs": [
    {
     "name": "stdout",
     "output_type": "stream",
     "text": [
      "Marginal VaRs for the assets respectively are: $0.30, $0.87, $0.22\n"
     ]
    }
   ],
   "source": [
    "# Compute individual asset betas, express them as a vector\n",
    "beta_1 = df[['R1', 'Rp']].cov().iloc[0, 1] * 252 / variance_p\n",
    "beta_2 = df[['R2', 'Rp']].cov().iloc[0, 1] * 252 / variance_p\n",
    "beta_3 = df[['R3', 'Rp']].cov().iloc[0, 1] * 252 / variance_p\n",
    "beta = np.array([beta_1, beta_2, beta_3])\n",
    "\n",
    "# Compute Marginal VaRs as a vector\n",
    "MVaR = z * sigma_p * beta\n",
    "print('Marginal VaRs for the assets respectively are: ' + ', '.join([f'${value:,.2f}' for value in MVaR]))"
   ]
  },
  {
   "cell_type": "markdown",
   "metadata": {},
   "source": [
    "## Incremental VaR  "
   ]
  },
  {
   "cell_type": "code",
   "execution_count": 7,
   "metadata": {},
   "outputs": [
    {
     "name": "stdout",
     "output_type": "stream",
     "text": [
      "Incremental VaR caused by the new position vector a is: $6,759.47\n"
     ]
    }
   ],
   "source": [
    "# Define positions change vector and compute new portfolio VaR\n",
    "a = np.array([10000, 5000, 0.0])\n",
    "VaR_new = z * sigma_p * (W + sum(a))\n",
    "\n",
    "# Compute Incremental VaR (it is a single number)\n",
    "delta_VaR = VaR_new - VaR_p\n",
    "print(f'Incremental VaR caused by the new position vector a is: ${delta_VaR:,.2f}')"
   ]
  },
  {
   "cell_type": "markdown",
   "metadata": {},
   "source": [
    "## Component VaR"
   ]
  },
  {
   "cell_type": "code",
   "execution_count": 8,
   "metadata": {},
   "outputs": [
    {
     "name": "stdout",
     "output_type": "stream",
     "text": [
      "Component VaRs for the assets respectively are: $121,851.09, $262,084.08, $66,696.33\n"
     ]
    }
   ],
   "source": [
    "# Compute Component VaRs as a vector\n",
    "CVaR = VaR_p * beta * w\n",
    "print(f\"Component VaRs for the assets respectively are: {', '.join([f'${x:,.2f}' for x in CVaR])}\")"
   ]
  },
  {
   "cell_type": "markdown",
   "metadata": {},
   "source": [
    "## Expected Shortfall"
   ]
  },
  {
   "cell_type": "code",
   "execution_count": 9,
   "metadata": {},
   "outputs": [
    {
     "name": "stdout",
     "output_type": "stream",
     "text": [
      "Expected Shortfall is: 327669.07\n"
     ]
    }
   ],
   "source": [
    "# Add the Portfolio column with an initial value of 1,000,000\n",
    "W = 1000000\n",
    "df['Portfolio'] = W * (1 + df['Rp']).cumprod()\n",
    "\n",
    "# Compute losses and add as a column to df\n",
    "df['L'] = W - df['Portfolio']\n",
    "\n",
    "# Compute VaR(zero)\n",
    "VaR_zero = W - df['Portfolio'].quantile(0.05)\n",
    "\n",
    "# Expected Shortfall\n",
    "# ES = df.loc[df['L'] > VaR_zero, 'L'].mean()\n",
    "# print('Expected Shortfall is: {:.2f}'.format(ES))\n",
    "\n",
    "ES_analytic = df['L'].mean() + df['L'].std() * norm.pdf(norm.ppf(0.95)) / (1 - 0.95)\n",
    "print('Expected Shortfall is: {:.2f}'.format(ES_analytic))"
   ]
  }
 ],
 "metadata": {
  "kernelspec": {
   "display_name": "base",
   "language": "python",
   "name": "python3"
  },
  "language_info": {
   "codemirror_mode": {
    "name": "ipython",
    "version": 3
   },
   "file_extension": ".py",
   "mimetype": "text/x-python",
   "name": "python",
   "nbconvert_exporter": "python",
   "pygments_lexer": "ipython3",
   "version": "3.11.5"
  }
 },
 "nbformat": 4,
 "nbformat_minor": 2
}
