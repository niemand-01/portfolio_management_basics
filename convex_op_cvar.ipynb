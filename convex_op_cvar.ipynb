{
 "cells": [
  {
   "cell_type": "code",
   "execution_count": 11,
   "metadata": {},
   "outputs": [],
   "source": [
    "import cvxpy as cp\n",
    "import numpy as np"
   ]
  },
  {
   "cell_type": "code",
   "execution_count": 12,
   "metadata": {},
   "outputs": [],
   "source": [
    "# define confidence level\n",
    "CONFIDENCE_LEVEL = 0.95\n",
    "RISK_ADVERSION_COEFFICIENT = 5\n",
    "CVaR_MAX = 0.05"
   ]
  },
  {
   "cell_type": "code",
   "execution_count": 13,
   "metadata": {},
   "outputs": [
    {
     "data": {
      "text/plain": [
       "np.float64(0.11007692307692309)"
      ]
     },
     "execution_count": 13,
     "metadata": {},
     "output_type": "execute_result"
    }
   ],
   "source": [
    "# Define problem data\n",
    "# average returns of 3 assets\n",
    "mu = np.array([0.1, 0.12, 0.15])\n",
    "# covriance matrix of returns\n",
    "Sigma = np.array([[0.005, 0.001, 0.002], [0.001, 0.006, 0.003], [0.002, 0.003, 0.009]])\n",
    "# historical returns under different scenarios\n",
    "R = np.array(\n",
    "    [\n",
    "        [0.08, 0.1, 0.12],\n",
    "        [0.05, 0.07, 0.09],\n",
    "        [0.12, 0.15, 0.18],\n",
    "        [0.03, 0.02, 0.04],\n",
    "        [0.15, 0.2, 0.25],\n",
    "    ]\n",
    ")\n",
    "\n",
    "# Define variables\n",
    "# weights\n",
    "w = cp.Variable(3)\n",
    "# Value at Risk\n",
    "VaR = cp.Variable()\n",
    "# excess loss beyond VaR under different scenarios\n",
    "z = cp.pos(-R @ w - VaR)\n",
    "\n",
    "# Define constraints\n",
    "constraints = [\n",
    "    cp.sum(w) == 1, # full investment\n",
    "    w >= 0, # non-negativity of weights\n",
    "    VaR + (1 / ((1-CONFIDENCE_LEVEL) * R.shape[0])) * cp.sum(z) <= CVaR_MAX, # Conditional Value at Risk constraint\n",
    "]\n",
    "# Define objective function\n",
    "objective = cp.Maximize(mu @ w - RISK_ADVERSION_COEFFICIENT * cp.quad_form(w, Sigma))\n",
    "# Solve problem\n",
    "problem = cp.Problem(objective, constraints)\n",
    "problem.solve()"
   ]
  },
  {
   "cell_type": "code",
   "execution_count": 14,
   "metadata": {},
   "outputs": [
    {
     "name": "stdout",
     "output_type": "stream",
     "text": [
      "Optimal weights: [0.04615385 0.30769231 0.64615385]\n",
      "Value at Risk (VaR): -0.0\n",
      "Conditional Value at Risk (CVaR): 0.0\n"
     ]
    }
   ],
   "source": [
    "print(\"Optimal weights:\", w.value)\n",
    "print(\"Value at Risk (VaR):\", VaR.value)\n",
    "print(\"Conditional Value at Risk (CVaR):\", VaR.value + (1 / ((1-CONFIDENCE_LEVEL) * R.shape[0])) * np.sum(z.value))"
   ]
  }
 ],
 "metadata": {
  "kernelspec": {
   "display_name": "Python 3",
   "language": "python",
   "name": "python3"
  },
  "language_info": {
   "codemirror_mode": {
    "name": "ipython",
    "version": 3
   },
   "file_extension": ".py",
   "mimetype": "text/x-python",
   "name": "python",
   "nbconvert_exporter": "python",
   "pygments_lexer": "ipython3",
   "version": "3.11.5"
  }
 },
 "nbformat": 4,
 "nbformat_minor": 2
}
